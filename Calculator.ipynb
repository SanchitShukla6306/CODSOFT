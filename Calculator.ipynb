{
 "cells": [
  {
   "cell_type": "code",
   "execution_count": 4,
   "id": "fd94366f-a051-4e53-822e-ea7b3c90a5b0",
   "metadata": {},
   "outputs": [
    {
     "name": "stdin",
     "output_type": "stream",
     "text": [
      "enter the first number : 45\n",
      "enter the second number : 45\n",
      "enter the operation use?? +\n"
     ]
    },
    {
     "name": "stdout",
     "output_type": "stream",
     "text": [
      "the division of 45+45 is 4545\n"
     ]
    }
   ],
   "source": [
    "num1 = intinput(\"enter the first number :\")\n",
    "num2 = input(\"enter the second number :\")\n",
    "operation = input(\"enter the operation use??\")\n",
    "\n",
    "\n",
    "if operation==\"+\":\n",
    "    result = num1+num2\n",
    "    print(f\"the division of {num1}+{num2} is {num1+num2}\")\n",
    "elif operation==\"-\":\n",
    "    result = num1-num2\n",
    "    print(f\"the division of {num1}-{num2} is {num1-num2}\")\n",
    "elif operation==\"*\":\n",
    "    result = num1*num2\n",
    "    print(f\"the division of {num1}*{num2} is {num1*num2}\")\n",
    "elif operation==\"/\":\n",
    "    if num2!=0:\n",
    "        result=num1/num2\n",
    "        print(f\"the division of {num1}/{num2} is {num1/num2}\")\n",
    "    else:\n",
    "        print(\"error! cannot divided by zero\")\n",
    "\n",
    "else:\n",
    "    print(\"invalid ! opeartions\")\n"
   ]
  },
  {
   "cell_type": "code",
   "execution_count": null,
   "id": "90435cce-96c1-4fd2-9a2f-b049b506da15",
   "metadata": {},
   "outputs": [],
   "source": []
  }
 ],
 "metadata": {
  "kernelspec": {
   "display_name": "Python 3 (ipykernel)",
   "language": "python",
   "name": "python3"
  },
  "language_info": {
   "codemirror_mode": {
    "name": "ipython",
    "version": 3
   },
   "file_extension": ".py",
   "mimetype": "text/x-python",
   "name": "python",
   "nbconvert_exporter": "python",
   "pygments_lexer": "ipython3",
   "version": "3.13.5"
  }
 },
 "nbformat": 4,
 "nbformat_minor": 5
}
