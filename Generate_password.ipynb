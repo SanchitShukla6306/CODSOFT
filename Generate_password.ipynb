{
 "cells": [
  {
   "cell_type": "code",
   "execution_count": 1,
   "id": "02936765-09b2-46e0-af32-4e757033153a",
   "metadata": {},
   "outputs": [
    {
     "name": "stdout",
     "output_type": "stream",
     "text": [
      "Generating a random password of length 12...\n",
      "Generated Password: q$LvO8z?a3D*\n"
     ]
    }
   ],
   "source": [
    "import random\n",
    "import string\n",
    "\n",
    "def generate_password(length):\n",
    "    \"\"\"\n",
    "    Generates a strong, random password of a specified length.\n",
    "\n",
    "    The password is created from a mix of uppercase letters, lowercase letters,\n",
    "    digits, and a selection of special characters.\n",
    "\n",
    "    Args:\n",
    "        length (int): The desired length of the password.\n",
    "\n",
    "    Returns:\n",
    "        str: The generated password.\n",
    "    \"\"\"\n",
    "    if length <= 0:\n",
    "        return \"Password length must be a positive number.\"\n",
    "\n",
    "    # Define the character sets to use for the password\n",
    "    characters = string.ascii_letters + string.digits + \"!@#$%^&*()_+-=[]{}|;:,.<>?\"\n",
    "\n",
    "    # Use a list comprehension to build the password from random characters\n",
    "    password = ''.join(random.choice(characters) for i in range(length))\n",
    "\n",
    "    return password\n",
    "\n",
    "# --- Main Program ---\n",
    "# Simulate user input by setting a predefined length.\n",
    "# You can change this value to generate a password of a different length.\n",
    "desired_length = 12\n",
    "\n",
    "print(f\"Generating a random password of length {desired_length}...\")\n",
    "\n",
    "# Call the function to generate the password\n",
    "new_password = generate_password(desired_length)\n",
    "\n",
    "# Display the generated password\n",
    "print(\"Generated Password:\", new_password)\n"
   ]
  },
  {
   "cell_type": "code",
   "execution_count": null,
   "id": "011630ed-644d-45d6-aa53-2418f222f046",
   "metadata": {},
   "outputs": [],
   "source": []
  }
 ],
 "metadata": {
  "kernelspec": {
   "display_name": "Python 3 (ipykernel)",
   "language": "python",
   "name": "python3"
  },
  "language_info": {
   "codemirror_mode": {
    "name": "ipython",
    "version": 3
   },
   "file_extension": ".py",
   "mimetype": "text/x-python",
   "name": "python",
   "nbconvert_exporter": "python",
   "pygments_lexer": "ipython3",
   "version": "3.13.5"
  }
 },
 "nbformat": 4,
 "nbformat_minor": 5
}
